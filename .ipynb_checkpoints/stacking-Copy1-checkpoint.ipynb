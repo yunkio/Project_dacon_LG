{
 "cells": [
  {
   "cell_type": "code",
   "execution_count": 102,
   "metadata": {},
   "outputs": [],
   "source": [
    "import pandas as pd\n",
    "import numpy as np\n",
    "import os\n",
    "from tqdm import tqdm\n",
    "import datetime as dt\n",
    "from datetime import datetime, timedelta\n",
    "import seaborn as sns\n",
    "from matplotlib import pyplot as plt\n",
    "import pickle\n",
    "import re\n",
    "from sklearn.model_selection import train_test_split\n",
    "import lightgbm as lgb\n",
    "from lightgbm import LGBMClassifier\n",
    "from sklearn.model_selection import cross_val_score, train_test_split\n",
    "from sklearn.metrics import roc_auc_score\n",
    "import matplotlib.pyplot as plt\n",
    "import seaborn as sns\n",
    "from sklearn.model_selection import StratifiedKFold\n",
    "from catboost import CatBoostClassifier, Pool\n",
    "from sklearn.model_selection import KFold\n",
    "import catboost\n",
    "import lightgbm\n",
    "import xgboost as xgb\n",
    "\n",
    "import warnings\n",
    "warnings.filterwarnings(action='ignore')"
   ]
  },
  {
   "cell_type": "code",
   "execution_count": 103,
   "metadata": {},
   "outputs": [],
   "source": [
    "from numpy import hstack\n",
    "from numpy import vstack\n",
    "from numpy import asarray\n",
    "from sklearn.datasets import make_blobs\n",
    "from sklearn.model_selection import KFold\n",
    "from sklearn.model_selection import train_test_split\n",
    "from sklearn.metrics import accuracy_score\n",
    "from sklearn.neighbors import KNeighborsClassifier\n",
    "from sklearn.linear_model import LogisticRegression\n",
    "from sklearn.tree import DecisionTreeClassifier\n",
    "from sklearn.svm import SVC\n",
    "from sklearn.naive_bayes import GaussianNB\n",
    "from sklearn.ensemble import AdaBoostClassifier\n",
    "from sklearn.ensemble import BaggingClassifier\n",
    "from sklearn.ensemble import RandomForestClassifier\n",
    "from sklearn.ensemble import ExtraTreesClassifier\n",
    "from sklearn.ensemble import GradientBoostingClassifier\n",
    "from sklearn.discriminant_analysis import LinearDiscriminantAnalysis\n",
    "from sklearn.gaussian_process import GaussianProcessClassifier"
   ]
  },
  {
   "cell_type": "code",
   "execution_count": 104,
   "metadata": {},
   "outputs": [],
   "source": [
    "import keras\n",
    "import tensorflow as tf\n",
    "from tensorflow.keras.preprocessing.image import img_to_array\n",
    "from tensorflow.keras.models import load_model\n",
    "import tensorflow_hub as hub"
   ]
  },
  {
   "cell_type": "markdown",
   "metadata": {},
   "source": [
    "### Data"
   ]
  },
  {
   "cell_type": "code",
   "execution_count": 105,
   "metadata": {},
   "outputs": [],
   "source": [
    "train = pd.read_csv(\"./custom_data/train_feature.csv\")\n",
    "test = pd.read_csv(\"./custom_data/test_feature.csv\")\n",
    "sample_submission = pd.read_csv('./data/sample_submission.csv')"
   ]
  },
  {
   "cell_type": "code",
   "execution_count": 106,
   "metadata": {},
   "outputs": [],
   "source": [
    "X = train.drop('problem', axis=1)\n",
    "y = train['problem']"
   ]
  },
  {
   "cell_type": "code",
   "execution_count": 107,
   "metadata": {},
   "outputs": [],
   "source": [
    "X_train, X_test, y_train, y_test = train_test_split(X, y, random_state=42, test_size=0.2)"
   ]
  },
  {
   "cell_type": "code",
   "execution_count": 108,
   "metadata": {},
   "outputs": [],
   "source": [
    "# X_train = X\n",
    "# y_train = y"
   ]
  },
  {
   "cell_type": "markdown",
   "metadata": {},
   "source": [
    "### Scaler"
   ]
  },
  {
   "cell_type": "code",
   "execution_count": 109,
   "metadata": {},
   "outputs": [],
   "source": [
    "from sklearn.preprocessing import StandardScaler\n",
    "scaler = StandardScaler()\n",
    "X_scaled_train = scaler.fit_transform(X_train)\n",
    "X_scaled_test = scaler.transform(X_test)"
   ]
  },
  {
   "cell_type": "markdown",
   "metadata": {},
   "source": [
    "### Super Learner"
   ]
  },
  {
   "cell_type": "code",
   "execution_count": 110,
   "metadata": {},
   "outputs": [],
   "source": [
    "cat_params = {\"logging_level\" : \"Silent\"}\n",
    "lgb_params = {'bagging_fraction': 0.9504775535991318, 'feature_fraction': 0.5598972214137229, 'lambda_l1': 2.9110070331408933, 'lambda_l2': 0.4065002276790508, 'learning_rate': 0.0118663823237834, 'max_depth': 12, 'min_child_samples': 19, 'min_child_weight': 35.21849812233922, 'min_samples_split': 0, 'min_split_gain': 0.05204638001792851, 'n_estimators': 949, 'num_leaves': 642, 'subsample': 0.5490080562116625}\n",
    "xgb_params = {'gamma': 8.712501813678685, 'max_depth': 22, 'min_child_weight': 9.863337491640031, 'n_estimators': 106, 'reg_alpha': 0.032974405578371495, 'reg_lambda': 0.0006919861676045414}"
   ]
  },
  {
   "cell_type": "code",
   "execution_count": 111,
   "metadata": {},
   "outputs": [],
   "source": [
    "def get_models():\n",
    "    models = []\n",
    "    models.append(catboost.CatBoostClassifier(**cat_params))\n",
    "    models.append(LGBMClassifier(**lgb_params))\n",
    "    models.append(xgb.XGBClassifier(**xgb_params))\n",
    "    models.append(RandomForestClassifier())\n",
    "    models.append(ExtraTreesClassifier())\n",
    "    models.append(KNeighborsClassifier())\n",
    "    models.append(GaussianNB())\n",
    "    models.append(GradientBoostingClassifier())\n",
    "    models.append(LinearDiscriminantAnalysis())\n",
    "    models.append(GaussianProcessClassifier())\n",
    "    models.append(SVC(probability = True))\n",
    "    return models"
   ]
  },
  {
   "cell_type": "code",
   "execution_count": 112,
   "metadata": {},
   "outputs": [],
   "source": [
    "# collect out of fold predictions form k-fold cross validation\n",
    "def get_out_of_fold_predictions(X, X_scaled, y, models):\n",
    "    meta_X, meta_y = list(), list()\n",
    "    kfold = KFold(n_splits=10, shuffle=True)\n",
    "    fscores = np.zeros((10, len(models)))\n",
    "    for total_idx, (train_ix, test_ix) in tqdm(enumerate(kfold.split(X))):\n",
    "        fold_yhats = list()\n",
    "        train_X, test_X = X[train_ix], X[test_ix]\n",
    "        train_X_scaled, test_X_scaled = X_scaled[train_ix], X_scaled[test_ix]\n",
    "        train_y, test_y = y[train_ix], y[test_ix]\n",
    "        meta_y.extend(test_y)\n",
    "        \n",
    "        scores = []\n",
    "        for model_idx, model in enumerate(models):\n",
    "            if model_idx < 5:\n",
    "                model.fit(train_X, train_y)\n",
    "                yhat = model.predict_proba(test_X)\n",
    "                fold_yhats.append(yhat)\n",
    "                score = roc_auc_score(test_y, yhat[:, 1], average='micro')\n",
    "                fscores[total_idx, model_idx] = score\n",
    "            else:\n",
    "                model.fit(train_X_scaled, train_y)\n",
    "                yhat = model.predict_proba(test_X_scaled)\n",
    "                fold_yhats.append(yhat)\n",
    "                score = roc_auc_score(test_y, yhat[:, 1], average='micro')\n",
    "                fscores[total_idx, model_idx] = score                \n",
    "        meta_X.append(hstack(fold_yhats))\n",
    "    return vstack(meta_X), asarray(meta_y), fscores\n",
    " \n",
    "# fit all base models on the training dataset\n",
    "def fit_base_models(X, X_scaled, y, models):\n",
    "    for model_idx, model in enumerate(models):\n",
    "        if model_idx < 4:\n",
    "            model.fit(X, y)\n",
    "        else:\n",
    "            model.fit(X_scaled, y)\n",
    " \n",
    "# fit a meta model\n",
    "def fit_meta_model(X, y):\n",
    "    model = LogisticRegression(solver='liblinear')\n",
    "    model.fit(X, y)\n",
    "    return model\n",
    " \n",
    "# evaluate a list of models on a dataset\n",
    "def evaluate_models(X, X_scaled, y, models):\n",
    "    for model_idx, model in enumerate(models):\n",
    "        if model_idx < 4:     \n",
    "            yhat = model.predict_proba(X)[:,1]\n",
    "            auc = roc_auc_score(y, yhat)\n",
    "            print('%s: %.3f' % (model.__class__.__name__, auc*100))\n",
    "        else:\n",
    "            yhat = model.predict_proba(X_scaled)[:,1]\n",
    "            auc = roc_auc_score(y, yhat)\n",
    "            print('%s: %.3f' % (model.__class__.__name__, auc*100))\n",
    "# make predictions with stacked model\n",
    "def super_learner_predictions(X, X_scaled, models, meta_model):\n",
    "    meta_X = list()\n",
    "    for model_idx, model in enumerate(models):\n",
    "        if model_idx < 4:\n",
    "            yhat = model.predict_proba(X)\n",
    "            meta_X.append(yhat)\n",
    "        else:\n",
    "            yhat = model.predict_proba(X_scaled)\n",
    "            meta_X.append(yhat)\n",
    "    meta_X = hstack(meta_X)\n",
    "   # predict\n",
    "    return meta_model.predict_proba(meta_X)[:,1]"
   ]
  },
  {
   "cell_type": "code",
   "execution_count": 113,
   "metadata": {},
   "outputs": [],
   "source": [
    "models = get_models()"
   ]
  },
  {
   "cell_type": "code",
   "execution_count": 114,
   "metadata": {},
   "outputs": [
    {
     "name": "stderr",
     "output_type": "stream",
     "text": [
      "0it [00:00, ?it/s]"
     ]
    },
    {
     "name": "stdout",
     "output_type": "stream",
     "text": [
      "[11:11:25] WARNING: C:/Users/Administrator/workspace/xgboost-win64_release_1.3.0/src/learner.cc:1061: Starting in XGBoost 1.3.0, the default evaluation metric used with the objective 'binary:logistic' was changed from 'error' to 'logloss'. Explicitly set eval_metric if you'd like to restore the old behavior.\n"
     ]
    },
    {
     "name": "stderr",
     "output_type": "stream",
     "text": [
      "1it [12:15, 735.69s/it]"
     ]
    },
    {
     "name": "stdout",
     "output_type": "stream",
     "text": [
      "[11:23:37] WARNING: C:/Users/Administrator/workspace/xgboost-win64_release_1.3.0/src/learner.cc:1061: Starting in XGBoost 1.3.0, the default evaluation metric used with the objective 'binary:logistic' was changed from 'error' to 'logloss'. Explicitly set eval_metric if you'd like to restore the old behavior.\n"
     ]
    },
    {
     "name": "stderr",
     "output_type": "stream",
     "text": [
      "2it [24:10, 723.67s/it]"
     ]
    },
    {
     "name": "stdout",
     "output_type": "stream",
     "text": [
      "[11:35:31] WARNING: C:/Users/Administrator/workspace/xgboost-win64_release_1.3.0/src/learner.cc:1061: Starting in XGBoost 1.3.0, the default evaluation metric used with the objective 'binary:logistic' was changed from 'error' to 'logloss'. Explicitly set eval_metric if you'd like to restore the old behavior.\n"
     ]
    },
    {
     "name": "stderr",
     "output_type": "stream",
     "text": [
      "3it [35:58, 716.40s/it]"
     ]
    },
    {
     "name": "stdout",
     "output_type": "stream",
     "text": [
      "[11:47:20] WARNING: C:/Users/Administrator/workspace/xgboost-win64_release_1.3.0/src/learner.cc:1061: Starting in XGBoost 1.3.0, the default evaluation metric used with the objective 'binary:logistic' was changed from 'error' to 'logloss'. Explicitly set eval_metric if you'd like to restore the old behavior.\n"
     ]
    },
    {
     "name": "stderr",
     "output_type": "stream",
     "text": [
      "4it [47:51, 715.07s/it]"
     ]
    },
    {
     "name": "stdout",
     "output_type": "stream",
     "text": [
      "[11:59:12] WARNING: C:/Users/Administrator/workspace/xgboost-win64_release_1.3.0/src/learner.cc:1061: Starting in XGBoost 1.3.0, the default evaluation metric used with the objective 'binary:logistic' was changed from 'error' to 'logloss'. Explicitly set eval_metric if you'd like to restore the old behavior.\n"
     ]
    },
    {
     "name": "stderr",
     "output_type": "stream",
     "text": [
      "5it [59:53, 717.39s/it]"
     ]
    },
    {
     "name": "stdout",
     "output_type": "stream",
     "text": [
      "[12:11:15] WARNING: C:/Users/Administrator/workspace/xgboost-win64_release_1.3.0/src/learner.cc:1061: Starting in XGBoost 1.3.0, the default evaluation metric used with the objective 'binary:logistic' was changed from 'error' to 'logloss'. Explicitly set eval_metric if you'd like to restore the old behavior.\n"
     ]
    },
    {
     "name": "stderr",
     "output_type": "stream",
     "text": [
      "6it [1:11:48, 716.59s/it]"
     ]
    },
    {
     "name": "stdout",
     "output_type": "stream",
     "text": [
      "[12:23:08] WARNING: C:/Users/Administrator/workspace/xgboost-win64_release_1.3.0/src/learner.cc:1061: Starting in XGBoost 1.3.0, the default evaluation metric used with the objective 'binary:logistic' was changed from 'error' to 'logloss'. Explicitly set eval_metric if you'd like to restore the old behavior.\n"
     ]
    },
    {
     "name": "stderr",
     "output_type": "stream",
     "text": [
      "7it [1:23:42, 715.76s/it]"
     ]
    },
    {
     "name": "stdout",
     "output_type": "stream",
     "text": [
      "[12:35:02] WARNING: C:/Users/Administrator/workspace/xgboost-win64_release_1.3.0/src/learner.cc:1061: Starting in XGBoost 1.3.0, the default evaluation metric used with the objective 'binary:logistic' was changed from 'error' to 'logloss'. Explicitly set eval_metric if you'd like to restore the old behavior.\n"
     ]
    },
    {
     "name": "stderr",
     "output_type": "stream",
     "text": [
      "8it [1:35:27, 712.37s/it]"
     ]
    },
    {
     "name": "stdout",
     "output_type": "stream",
     "text": [
      "[12:46:46] WARNING: C:/Users/Administrator/workspace/xgboost-win64_release_1.3.0/src/learner.cc:1061: Starting in XGBoost 1.3.0, the default evaluation metric used with the objective 'binary:logistic' was changed from 'error' to 'logloss'. Explicitly set eval_metric if you'd like to restore the old behavior.\n"
     ]
    },
    {
     "name": "stderr",
     "output_type": "stream",
     "text": [
      "9it [1:47:07, 708.63s/it]"
     ]
    },
    {
     "name": "stdout",
     "output_type": "stream",
     "text": [
      "[12:58:27] WARNING: C:/Users/Administrator/workspace/xgboost-win64_release_1.3.0/src/learner.cc:1061: Starting in XGBoost 1.3.0, the default evaluation metric used with the objective 'binary:logistic' was changed from 'error' to 'logloss'. Explicitly set eval_metric if you'd like to restore the old behavior.\n"
     ]
    },
    {
     "name": "stderr",
     "output_type": "stream",
     "text": [
      "10it [1:59:01, 714.16s/it]\n"
     ]
    }
   ],
   "source": [
    "meta_X, meta_y, fscores = get_out_of_fold_predictions(X_train.values, X_scaled_train, y_train.values, models)"
   ]
  },
  {
   "cell_type": "code",
   "execution_count": 115,
   "metadata": {},
   "outputs": [],
   "source": [
    "meta_model = fit_meta_model(meta_X, meta_y)"
   ]
  },
  {
   "cell_type": "markdown",
   "metadata": {},
   "source": [
    "status|cat|lgb|xgb|rf\n",
    ":---|:---:|:---:|:---:|:---:\n",
    "tuning X|0.83847134|0.83117312|0.83468733|0.82470269\n",
    "tuning O|----|0.83677207|0.832428|0.81877891\n",
    "tuning O, n = 500|----|----|0.82202676|0.81936112|\n",
    "tuning X, n = 100|----|----|----|----|"
   ]
  },
  {
   "cell_type": "markdown",
   "metadata": {},
   "source": [
    "### 전체 데이터 재학습"
   ]
  },
  {
   "cell_type": "code",
   "execution_count": 116,
   "metadata": {},
   "outputs": [
    {
     "name": "stdout",
     "output_type": "stream",
     "text": [
      "[13:40:14] WARNING: C:/Users/Administrator/workspace/xgboost-win64_release_1.3.0/src/learner.cc:1061: Starting in XGBoost 1.3.0, the default evaluation metric used with the objective 'binary:logistic' was changed from 'error' to 'logloss'. Explicitly set eval_metric if you'd like to restore the old behavior.\n"
     ]
    }
   ],
   "source": [
    "fit_base_models(X_train, X_scaled_train ,y_train.values, models)"
   ]
  },
  {
   "cell_type": "markdown",
   "metadata": {},
   "source": [
    "### 성능 테스트"
   ]
  },
  {
   "cell_type": "code",
   "execution_count": 117,
   "metadata": {},
   "outputs": [
    {
     "name": "stdout",
     "output_type": "stream",
     "text": [
      "CatBoostClassifier: 83.982\n",
      "LGBMClassifier: 83.951\n",
      "XGBClassifier: 82.721\n",
      "RandomForestClassifier: 81.433\n",
      "ExtraTreesClassifier: 82.179\n",
      "KNeighborsClassifier: 75.251\n",
      "GaussianNB: 75.744\n",
      "GradientBoostingClassifier: 82.953\n",
      "LinearDiscriminantAnalysis: 79.454\n",
      "GaussianProcessClassifier: 69.138\n",
      "SVC: 79.886\n"
     ]
    }
   ],
   "source": [
    "evaluate_models(X_test, X_scaled_test, y_test, models)"
   ]
  },
  {
   "cell_type": "code",
   "execution_count": 119,
   "metadata": {},
   "outputs": [
    {
     "data": {
      "text/html": [
       "<div>\n",
       "<style scoped>\n",
       "    .dataframe tbody tr th:only-of-type {\n",
       "        vertical-align: middle;\n",
       "    }\n",
       "\n",
       "    .dataframe tbody tr th {\n",
       "        vertical-align: top;\n",
       "    }\n",
       "\n",
       "    .dataframe thead th {\n",
       "        text-align: right;\n",
       "    }\n",
       "</style>\n",
       "<table border=\"1\" class=\"dataframe\">\n",
       "  <thead>\n",
       "    <tr style=\"text-align: right;\">\n",
       "      <th></th>\n",
       "      <th>cat</th>\n",
       "      <th>lgbm</th>\n",
       "      <th>xgb</th>\n",
       "      <th>rf</th>\n",
       "      <th>et</th>\n",
       "      <th>knn</th>\n",
       "      <th>NB</th>\n",
       "      <th>gbt</th>\n",
       "      <th>lda</th>\n",
       "      <th>gpc</th>\n",
       "      <th>svc</th>\n",
       "    </tr>\n",
       "  </thead>\n",
       "  <tbody>\n",
       "    <tr>\n",
       "      <td>0</td>\n",
       "      <td>0.832969</td>\n",
       "      <td>0.828375</td>\n",
       "      <td>0.815401</td>\n",
       "      <td>0.822333</td>\n",
       "      <td>0.818388</td>\n",
       "      <td>0.730226</td>\n",
       "      <td>0.760954</td>\n",
       "      <td>0.828779</td>\n",
       "      <td>0.811699</td>\n",
       "      <td>0.710213</td>\n",
       "      <td>0.800233</td>\n",
       "    </tr>\n",
       "    <tr>\n",
       "      <td>1</td>\n",
       "      <td>0.870554</td>\n",
       "      <td>0.869338</td>\n",
       "      <td>0.859445</td>\n",
       "      <td>0.852484</td>\n",
       "      <td>0.844790</td>\n",
       "      <td>0.747065</td>\n",
       "      <td>0.796955</td>\n",
       "      <td>0.861579</td>\n",
       "      <td>0.807502</td>\n",
       "      <td>0.702135</td>\n",
       "      <td>0.846953</td>\n",
       "    </tr>\n",
       "    <tr>\n",
       "      <td>2</td>\n",
       "      <td>0.843924</td>\n",
       "      <td>0.842434</td>\n",
       "      <td>0.836547</td>\n",
       "      <td>0.828199</td>\n",
       "      <td>0.822001</td>\n",
       "      <td>0.726979</td>\n",
       "      <td>0.746056</td>\n",
       "      <td>0.839407</td>\n",
       "      <td>0.564524</td>\n",
       "      <td>0.690573</td>\n",
       "      <td>0.823248</td>\n",
       "    </tr>\n",
       "    <tr>\n",
       "      <td>3</td>\n",
       "      <td>0.832546</td>\n",
       "      <td>0.828906</td>\n",
       "      <td>0.817592</td>\n",
       "      <td>0.812667</td>\n",
       "      <td>0.818918</td>\n",
       "      <td>0.734136</td>\n",
       "      <td>0.752206</td>\n",
       "      <td>0.822456</td>\n",
       "      <td>0.783439</td>\n",
       "      <td>0.683624</td>\n",
       "      <td>0.815463</td>\n",
       "    </tr>\n",
       "    <tr>\n",
       "      <td>4</td>\n",
       "      <td>0.858284</td>\n",
       "      <td>0.858667</td>\n",
       "      <td>0.839695</td>\n",
       "      <td>0.843484</td>\n",
       "      <td>0.835635</td>\n",
       "      <td>0.765268</td>\n",
       "      <td>0.782887</td>\n",
       "      <td>0.853059</td>\n",
       "      <td>0.824719</td>\n",
       "      <td>0.716329</td>\n",
       "      <td>0.810383</td>\n",
       "    </tr>\n",
       "    <tr>\n",
       "      <td>5</td>\n",
       "      <td>0.841789</td>\n",
       "      <td>0.843716</td>\n",
       "      <td>0.841206</td>\n",
       "      <td>0.826490</td>\n",
       "      <td>0.826154</td>\n",
       "      <td>0.756057</td>\n",
       "      <td>0.782309</td>\n",
       "      <td>0.832526</td>\n",
       "      <td>0.791598</td>\n",
       "      <td>0.687969</td>\n",
       "      <td>0.801629</td>\n",
       "    </tr>\n",
       "    <tr>\n",
       "      <td>6</td>\n",
       "      <td>0.835253</td>\n",
       "      <td>0.833580</td>\n",
       "      <td>0.802544</td>\n",
       "      <td>0.826381</td>\n",
       "      <td>0.826838</td>\n",
       "      <td>0.728062</td>\n",
       "      <td>0.763667</td>\n",
       "      <td>0.828259</td>\n",
       "      <td>0.794134</td>\n",
       "      <td>0.702001</td>\n",
       "      <td>0.812073</td>\n",
       "    </tr>\n",
       "    <tr>\n",
       "      <td>7</td>\n",
       "      <td>0.831962</td>\n",
       "      <td>0.827040</td>\n",
       "      <td>0.802855</td>\n",
       "      <td>0.816430</td>\n",
       "      <td>0.827461</td>\n",
       "      <td>0.741853</td>\n",
       "      <td>0.769962</td>\n",
       "      <td>0.816555</td>\n",
       "      <td>0.789754</td>\n",
       "      <td>0.699103</td>\n",
       "      <td>0.792225</td>\n",
       "    </tr>\n",
       "    <tr>\n",
       "      <td>8</td>\n",
       "      <td>0.823644</td>\n",
       "      <td>0.825671</td>\n",
       "      <td>0.806864</td>\n",
       "      <td>0.809948</td>\n",
       "      <td>0.810811</td>\n",
       "      <td>0.740264</td>\n",
       "      <td>0.744828</td>\n",
       "      <td>0.819373</td>\n",
       "      <td>0.793003</td>\n",
       "      <td>0.707574</td>\n",
       "      <td>0.801946</td>\n",
       "    </tr>\n",
       "    <tr>\n",
       "      <td>9</td>\n",
       "      <td>0.848237</td>\n",
       "      <td>0.846542</td>\n",
       "      <td>0.837905</td>\n",
       "      <td>0.827369</td>\n",
       "      <td>0.830353</td>\n",
       "      <td>0.743329</td>\n",
       "      <td>0.769168</td>\n",
       "      <td>0.842116</td>\n",
       "      <td>0.581387</td>\n",
       "      <td>0.696423</td>\n",
       "      <td>0.817488</td>\n",
       "    </tr>\n",
       "  </tbody>\n",
       "</table>\n",
       "</div>"
      ],
      "text/plain": [
       "        cat      lgbm       xgb        rf        et       knn        NB  \\\n",
       "0  0.832969  0.828375  0.815401  0.822333  0.818388  0.730226  0.760954   \n",
       "1  0.870554  0.869338  0.859445  0.852484  0.844790  0.747065  0.796955   \n",
       "2  0.843924  0.842434  0.836547  0.828199  0.822001  0.726979  0.746056   \n",
       "3  0.832546  0.828906  0.817592  0.812667  0.818918  0.734136  0.752206   \n",
       "4  0.858284  0.858667  0.839695  0.843484  0.835635  0.765268  0.782887   \n",
       "5  0.841789  0.843716  0.841206  0.826490  0.826154  0.756057  0.782309   \n",
       "6  0.835253  0.833580  0.802544  0.826381  0.826838  0.728062  0.763667   \n",
       "7  0.831962  0.827040  0.802855  0.816430  0.827461  0.741853  0.769962   \n",
       "8  0.823644  0.825671  0.806864  0.809948  0.810811  0.740264  0.744828   \n",
       "9  0.848237  0.846542  0.837905  0.827369  0.830353  0.743329  0.769168   \n",
       "\n",
       "        gbt       lda       gpc       svc  \n",
       "0  0.828779  0.811699  0.710213  0.800233  \n",
       "1  0.861579  0.807502  0.702135  0.846953  \n",
       "2  0.839407  0.564524  0.690573  0.823248  \n",
       "3  0.822456  0.783439  0.683624  0.815463  \n",
       "4  0.853059  0.824719  0.716329  0.810383  \n",
       "5  0.832526  0.791598  0.687969  0.801629  \n",
       "6  0.828259  0.794134  0.702001  0.812073  \n",
       "7  0.816555  0.789754  0.699103  0.792225  \n",
       "8  0.819373  0.793003  0.707574  0.801946  \n",
       "9  0.842116  0.581387  0.696423  0.817488  "
      ]
     },
     "execution_count": 119,
     "metadata": {},
     "output_type": "execute_result"
    }
   ],
   "source": [
    "pd.DataFrame(fscores, columns=['cat', 'lgbm', 'xgb', 'rf', 'et', 'knn','NB', 'gbt', 'lda', 'gpc', 'svc'])"
   ]
  },
  {
   "cell_type": "code",
   "execution_count": 120,
   "metadata": {},
   "outputs": [
    {
     "data": {
      "text/plain": [
       "array([0.84191614, 0.84042694, 0.82600546, 0.82657851, 0.82613476,\n",
       "       0.74132384, 0.76689933, 0.8344109 , 0.75417587, 0.69959438,\n",
       "       0.81216401])"
      ]
     },
     "execution_count": 120,
     "metadata": {},
     "output_type": "execute_result"
    }
   ],
   "source": [
    "np.mean(fscores, axis=0)"
   ]
  },
  {
   "cell_type": "markdown",
   "metadata": {},
   "source": [
    "### 최대성능"
   ]
  },
  {
   "cell_type": "code",
   "execution_count": 121,
   "metadata": {},
   "outputs": [
    {
     "data": {
      "text/plain": [
       "0.843916461460791"
      ]
     },
     "execution_count": 121,
     "metadata": {},
     "output_type": "execute_result"
    }
   ],
   "source": [
    "yhat = super_learner_predictions(X_test, X_scaled_test, models, meta_model)\n",
    "roc_auc_score(y_test, yhat)"
   ]
  },
  {
   "cell_type": "markdown",
   "metadata": {},
   "source": [
    "### Submission"
   ]
  },
  {
   "cell_type": "code",
   "execution_count": 122,
   "metadata": {},
   "outputs": [],
   "source": [
    "new_scaler = StandardScaler()\n",
    "X_scaled = new_scaler.fit_transform(X)\n",
    "test_scaled = scaler.transform(test)"
   ]
  },
  {
   "cell_type": "code",
   "execution_count": 123,
   "metadata": {},
   "outputs": [],
   "source": [
    "yhat = super_learner_predictions(test, test_scaled, models, meta_model)"
   ]
  },
  {
   "cell_type": "code",
   "execution_count": 124,
   "metadata": {},
   "outputs": [],
   "source": [
    "sample_submission['problem'] = yhat"
   ]
  },
  {
   "cell_type": "code",
   "execution_count": 125,
   "metadata": {},
   "outputs": [],
   "source": [
    "sample_submission.to_csv('submission_0202_super_learner.csv', index=False)"
   ]
  },
  {
   "cell_type": "code",
   "execution_count": 151,
   "metadata": {},
   "outputs": [
    {
     "data": {
      "text/plain": [
       "(0.0, 7000.0)"
      ]
     },
     "execution_count": 151,
     "metadata": {},
     "output_type": "execute_result"
    },
    {
     "data": {
      "image/png": "[encoded data removed]",
      "text/plain": [
       "<Figure size 432x288 with 1 Axes>"
      ]
     },
     "metadata": {
      "needs_background": "light"
     },
     "output_type": "display_data"
    }
   ],
   "source": [
    "sample_submission['problem'].apply(lambda x: round(x*10)).value_counts().sort_index().plot.bar()\n",
    "plt.ylim(0,7000)"
   ]
  },
  {
   "cell_type": "code",
   "execution_count": 157,
   "metadata": {},
   "outputs": [
    {
     "data": {
      "text/plain": [
       "0    11722\n",
       "1     3277\n",
       "Name: problem, dtype: int64"
      ]
     },
     "execution_count": 157,
     "metadata": {},
     "output_type": "execute_result"
    }
   ],
   "source": [
    "sample_submission['problem'].apply(lambda x: round(x*1)).value_counts().sort_index()"
   ]
  },
  {
   "cell_type": "code",
   "execution_count": 152,
   "metadata": {},
   "outputs": [
    {
     "data": {
      "text/plain": [
       "(0.0, 7000.0)"
      ]
     },
     "execution_count": 152,
     "metadata": {},
     "output_type": "execute_result"
    },
    {
     "data": {
      "image/png": "[encoded data removed]",
      "text/plain": [
       "<Figure size 432x288 with 1 Axes>"
      ]
     },
     "metadata": {
      "needs_background": "light"
     },
     "output_type": "display_data"
    }
   ],
   "source": [
    "pd.read_csv('hj.csv')['problem'].apply(lambda x: round(x*10)).value_counts().sort_index().plot.bar()\n",
    "plt.ylim(0,7000)"
   ]
  },
  {
   "cell_type": "code",
   "execution_count": 156,
   "metadata": {},
   "outputs": [
    {
     "data": {
      "text/plain": [
       "0    11064\n",
       "1     3935\n",
       "Name: problem, dtype: int64"
      ]
     },
     "execution_count": 156,
     "metadata": {},
     "output_type": "execute_result"
    }
   ],
   "source": [
    "pd.read_csv('hj.csv')['problem'].apply(lambda x: round(x*1)).value_counts().sort_index()"
   ]
  },
  {
   "cell_type": "code",
   "execution_count": 153,
   "metadata": {},
   "outputs": [
    {
     "data": {
      "text/plain": [
       "(0.0, 7000.0)"
      ]
     },
     "execution_count": 153,
     "metadata": {},
     "output_type": "execute_result"
    },
    {
     "data": {
      "image/png": "[encoded data removed]",
      "text/plain": [
       "<Figure size 432x288 with 1 Axes>"
      ]
     },
     "metadata": {
      "needs_background": "light"
     },
     "output_type": "display_data"
    }
   ],
   "source": [
    "pd.read_csv('submission_0202.csv')['problem'].apply(lambda x: round(x*10)).value_counts().sort_index().plot.bar()\n",
    "plt.ylim(0,7000)"
   ]
  },
  {
   "cell_type": "code",
   "execution_count": 154,
   "metadata": {},
   "outputs": [
    {
     "data": {
      "text/plain": [
       "0    11646\n",
       "1     3353\n",
       "Name: problem, dtype: int64"
      ]
     },
     "execution_count": 154,
     "metadata": {},
     "output_type": "execute_result"
    }
   ],
   "source": [
    "pd.read_csv('submission_0202.csv')['problem'].apply(lambda x: round(x)).value_counts().sort_index()"
   ]
  },
  {
   "cell_type": "code",
   "execution_count": null,
   "metadata": {},
   "outputs": [],
   "source": []
  }
 ],
 "metadata": {
  "kernelspec": {
   "display_name": "Python 3",
   "language": "python",
   "name": "python3"
  },
  "language_info": {
   "codemirror_mode": {
    "name": "ipython",
    "version": 3
   },
   "file_extension": ".py",
   "mimetype": "text/x-python",
   "name": "python",
   "nbconvert_exporter": "python",
   "pygments_lexer": "ipython3",
   "version": "3.7.4"
  }
 },
 "nbformat": 4,
 "nbformat_minor": 4
}
